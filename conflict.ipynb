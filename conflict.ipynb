{
 "cells": [
  {
   "cell_type": "code",
   "execution_count": null,
   "metadata": {},
   "outputs": [],
   "source": [
    " def powerSeries(self):\n",
    "        # pass\n",
    "        a = np.zeros(100, dtype=float)\n",
    "        b = np.zeros(100, dtype=float)\n",
    "        c = np.zeros(100, dtype=float)\n",
    "        a[0] = self.y_0\n",
    "        a[1] = c[0]\n",
    "        self.help_bc(a, b, c, 1)\n",
    "        a[2] = (c[1]-a[0])/2\n",
    "        self.help_bc(a, b, c, 2)\n",
    "        a[3] = (c[2]-b[0]-a[1])/3 \n",
    "        self.help_bc(a, b, c, 3)\n",
    "        a[4] = (c[3]-b[1]-a[2]+1)/4 \n",
    "        for i in range(4,90):\n",
    "            self.help_bc(a, b, c, i)\n",
    "            a[i+1] = (c[i]-b[i-2]-a[i-1])/(i+1)\n",
    "\n",
    "        self.help_PwrSrs(a, b, c, -1)\n",
    "        self.help_PwrSrs(a, b, c, 1)\n",
    "    \n",
    "    def help_bc(self, a, b, c, i):\n",
    "        for j in range(i+1):\n",
    "            b[i] += a[j]*a[i-j]\n",
    "        for j in range(i+1):\n",
    "            c[i] += a[j]*b[i-j]\n",
    "\n",
    "    def help_PwrSrs(self, a, b, c, dir):\n",
    "        i = 1\n",
    "        y_n = t_n = 0\n",
    "        while (t_n>=self.lower_bound and t_n<=self.upper_bound):\n",
    "            if i == 1:\n",
    "                i = 0\n",
    "                y_n = self.y_0\n",
    "                t_n = self.t_0\n",
    "            if(dir==1):\n",
    "                self.y_all.append(y_n)\n",
    "                self.t_all.append(t_n)\n",
    "            elif(dir==-1):\n",
    "                self.y_all.insert(0, y_n)\n",
    "                self.t_all.insert(0, t_n)\n",
    "\n",
    "            y_n = 0\n",
    "            for i in range(90):\n",
    "                y_n += a[i] * (t_n ** i)\n",
    "                # print(i, \"a=\", a[i], \"b=\", b[i], \"c=\", c[i])\n",
    "            t_n = t_n + dir* self.step\n"
   ]
  }
 ],
 "metadata": {
  "language_info": {
   "name": "python"
  },
  "orig_nbformat": 4
 },
 "nbformat": 4,
 "nbformat_minor": 2
}
